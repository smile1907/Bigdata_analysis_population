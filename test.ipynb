{
 "cells": [
  {
   "cell_type": "code",
   "execution_count": 1,
   "id": "60777bde",
   "metadata": {},
   "outputs": [],
   "source": [
    "import pandas as pd\n",
    "import numpy as np\n",
    "import matplotlib as mat\n",
    "import matplotlib.pyplot as plt\n",
    "import matplotlib.font_manager as fm\n",
    "import seaborn as sns\n",
    "from pandas.core.frame import DataFrame"
   ]
  },
  {
   "cell_type": "code",
   "execution_count": 2,
   "id": "bbcdd09a",
   "metadata": {
    "scrolled": true
   },
   "outputs": [
    {
     "name": "stdout",
     "output_type": "stream",
     "text": [
      "                시군구     번지    본번  부번       단지명  전용면적(㎡)    계약년월  계약일  \\\n",
      "0  경상남도 거제시 거제면 동상리  616-5   616   5      동원리치  81.2350  202107   14   \n",
      "1  경상남도 거제시 거제면 옥산리   1515  1515   0  거제오션파크자이  84.9435  202107    2   \n",
      "2  경상남도 거제시 거제면 옥산리   1515  1515   0  거제오션파크자이  84.9435  202107    3   \n",
      "3  경상남도 거제시 거제면 옥산리   1515  1515   0  거제오션파크자이  84.9435  202107    9   \n",
      "4  경상남도 거제시 거제면 옥산리   1515  1515   0  거제오션파크자이  84.9604  202107   11   \n",
      "\n",
      "         거래금액(만원)   층  건축년도         도로명  해제사유발생일  \n",
      "0           8,000   4  2004     동상명진길 8      NaN  \n",
      "1          18,300  19  2017  두동로 259-90      NaN  \n",
      "2          18,000   2  2017  두동로 259-90      NaN  \n",
      "3          23,953   6  2017  두동로 259-90      NaN  \n",
      "4          19,000   3  2017  두동로 259-90      NaN  \n"
     ]
    }
   ],
   "source": [
    "# 데이터 입력및 기본처리 (함수화 예정)\n",
    "data1 = pd.read_excel(\"c://python//아파트_실거래가_test.xlsx\")\n",
    "print(data1.head())"
   ]
  },
  {
   "cell_type": "code",
   "execution_count": 3,
   "id": "ec1fa104",
   "metadata": {
    "scrolled": true
   },
   "outputs": [
    {
     "name": "stdout",
     "output_type": "stream",
     "text": [
      "                시군구  전용면적(㎡)    계약년월  계약일        거래금액(만원)\n",
      "0  경상남도 거제시 거제면 동상리  81.2350  202107   14           8,000\n",
      "1  경상남도 거제시 거제면 옥산리  84.9435  202107    2          18,300\n",
      "2  경상남도 거제시 거제면 옥산리  84.9435  202107    3          18,000\n",
      "3  경상남도 거제시 거제면 옥산리  84.9435  202107    9          23,953\n",
      "4  경상남도 거제시 거제면 옥산리  84.9604  202107   11          19,000\n"
     ]
    }
   ],
   "source": [
    "data2 = data1.drop(columns=[\"번지\",\"본번\",\"부번\",\"단지명\",\"층\",\"도로명\",\"건축년도\",\"해제사유발생일\"])\n",
    "print(data2.head())"
   ]
  },
  {
   "cell_type": "code",
   "execution_count": 4,
   "id": "d1ab76c6",
   "metadata": {},
   "outputs": [
    {
     "name": "stdout",
     "output_type": "stream",
     "text": [
      "                시군구  전용면적(㎡)    계약년월  계약일        거래금액(만원)    시\n",
      "0  경상남도 거제시 거제면 동상리  81.2350  202107   14           8,000  거제시\n",
      "1  경상남도 거제시 거제면 옥산리  84.9435  202107    2          18,300  거제시\n",
      "2  경상남도 거제시 거제면 옥산리  84.9435  202107    3          18,000  거제시\n",
      "3  경상남도 거제시 거제면 옥산리  84.9435  202107    9          23,953  거제시\n",
      "4  경상남도 거제시 거제면 옥산리  84.9604  202107   11          19,000  거제시\n"
     ]
    }
   ],
   "source": [
    "# 사용할 정보 가공 (함수와 예정)\n",
    "dali = [] #시군구에서 시에 대한 정보만 추출\n",
    "for da in data2[\"시군구\"]:\n",
    "    dali.append(da.split(\" \")[1]) #0 : 도 , 1 : 시\n",
    "data2[\"시\"] = dali #시군구는 놔두고 시를 새로 생성\n",
    "print(data2.head())"
   ]
  },
  {
   "cell_type": "code",
   "execution_count": 5,
   "id": "02be08cd",
   "metadata": {},
   "outputs": [],
   "source": [
    "cha = [] # 창원시는 여러개의 구로 나누어진 형태로 이를 창원시로 병합\n",
    "for i in data2[\"시\"]:\n",
    "    if i[0:2] == \"창원\":\n",
    "        cha.append(\"창원시\")\n",
    "    else:\n",
    "        cha.append(i)\n",
    "data2[\"시\"] = cha"
   ]
  },
  {
   "cell_type": "code",
   "execution_count": 6,
   "id": "e7d8ae3b",
   "metadata": {},
   "outputs": [
    {
     "name": "stdout",
     "output_type": "stream",
     "text": [
      "              시군구  전용면적(㎡)    계약년월  계약일        거래금액(만원)    시\n",
      "461  경상남도 김해시 관동동  84.9370  202107    3          33,800  김해시\n",
      "462  경상남도 김해시 관동동  69.5451  202107    3          25,400  김해시\n",
      "463  경상남도 김해시 관동동  84.9370  202107    7          31,400  김해시\n",
      "464  경상남도 김해시 관동동  84.9370  202107   11          33,500  김해시\n",
      "465  경상남도 김해시 관동동  84.9370  202107   12          32,500  김해시\n"
     ]
    }
   ],
   "source": [
    "# 가공된 데이터에서 필요한 지역만을 가져옴 (완성본에서는 불필요)\n",
    "data3 = data2[data2[\"시\"] == \"김해시\"]\n",
    "print(data3.head())"
   ]
  },
  {
   "cell_type": "code",
   "execution_count": 8,
   "id": "683cb36b",
   "metadata": {},
   "outputs": [
    {
     "name": "stdout",
     "output_type": "stream",
     "text": [
      "<class 'pandas.core.frame.DataFrame'>\n",
      "Int64Index: 948 entries, 461 to 1408\n",
      "Data columns (total 7 columns):\n",
      " #   Column    Non-Null Count  Dtype  \n",
      "---  ------    --------------  -----  \n",
      " 0   시군구       948 non-null    object \n",
      " 1   전용면적(㎡)   948 non-null    float64\n",
      " 2   계약년월      948 non-null    int64  \n",
      " 3   계약일       948 non-null    int64  \n",
      " 4   거래금액(만원)  948 non-null    object \n",
      " 5   시         948 non-null    object \n",
      " 6   돈         948 non-null    int64  \n",
      "dtypes: float64(1), int64(3), object(3)\n",
      "memory usage: 59.2+ KB\n",
      "None 22311.636075949365 4000 82000\n"
     ]
    },
    {
     "name": "stderr",
     "output_type": "stream",
     "text": [
      "<ipython-input-8-8eeecd49144c>:10: SettingWithCopyWarning: \n",
      "A value is trying to be set on a copy of a slice from a DataFrame.\n",
      "Try using .loc[row_indexer,col_indexer] = value instead\n",
      "\n",
      "See the caveats in the documentation: https://pandas.pydata.org/pandas-docs/stable/user_guide/indexing.html#returning-a-view-versus-a-copy\n",
      "  data3[\"돈\"] = dali2 # 돈이라는 새로운 배열을 만듦\n"
     ]
    }
   ],
   "source": [
    "dali2 = [] # 거래금액은 띄어쓰기와 ,로 인해서 문자열로 지정된 상태\n",
    "k = \"\" # 여기서 띄어쓰기와 ,를 지우고 정수형으로 변환해 저장\n",
    "for i in data3[\"거래금액(만원)\"]:\n",
    "    for j in i:\n",
    "        if j != \" \" and j != \",\":\n",
    "            k = k + j\n",
    "    dali2.append(int(k))\n",
    "    k = \"\"\n",
    "\n",
    "data3[\"돈\"] = dali2 # 돈이라는 새로운 배열을 만듦\n",
    "print(data3.info(),data3[\"돈\"].mean(),data3[\"돈\"].min(),data3[\"돈\"].max()) # 정보, 평균, 최소, 최대값 표시\n"
   ]
  },
  {
   "cell_type": "code",
   "execution_count": 9,
   "id": "85ce9823",
   "metadata": {},
   "outputs": [
    {
     "name": "stdout",
     "output_type": "stream",
     "text": [
      "        시      돈\n",
      "0     거제시   8000\n",
      "1     거제시  18300\n",
      "2     거제시  18000\n",
      "3     거제시  23953\n",
      "4     거제시  19000\n",
      "...   ...    ...\n",
      "4369  합천군  32647\n",
      "4370  합천군  32224\n",
      "4371  합천군  32397\n",
      "4372  합천군  32097\n",
      "4373  합천군   5300\n",
      "\n",
      "[4374 rows x 2 columns]\n"
     ]
    }
   ],
   "source": [
    "# 지역별 아파트 가격차이를 시각화 하기 위한 데이터 선별 (함수화 예정)\n",
    "data5 = pd.DataFrame() # 빈 데이터 프레임\n",
    "data5[\"시\"] = data2[\"시\"]\n",
    "\n",
    "dali3 = [] # 문자열인 금액의 데이터를 정수형으로 변환\n",
    "k = \"\"\n",
    "for i in data2[\"거래금액(만원)\"]:\n",
    "    for j in i:\n",
    "        if j != \" \" and j != \",\":\n",
    "            k = k + j\n",
    "    dali3.append(int(k))\n",
    "    k = \"\"\n",
    "data5[\"돈\"] = dali3\n",
    "print(data5)"
   ]
  },
  {
   "cell_type": "code",
   "execution_count": 10,
   "id": "8f96677a",
   "metadata": {},
   "outputs": [
    {
     "name": "stdout",
     "output_type": "stream",
     "text": [
      "      시             돈\n",
      "0   거제시  18500.607692\n",
      "1   거창군  20308.700000\n",
      "2   고성군  10507.142857\n",
      "3   김해시  22311.636076\n",
      "4   남해군  13885.714286\n",
      "5   밀양시  17357.135802\n",
      "6   사천시  12968.447853\n",
      "7   산청군  14266.666667\n",
      "8   양산시  21925.907303\n",
      "9   의령군  15325.000000\n",
      "10  진주시  24300.126850\n",
      "11  창녕군  11403.571429\n",
      "12  창원시  25827.242284\n",
      "13  통영시  16983.976923\n",
      "14  하동군   8516.500000\n",
      "15  함안군  12747.297297\n",
      "16  함양군  14187.500000\n",
      "17  합천군  18876.900000\n"
     ]
    }
   ],
   "source": [
    "# 데이터를 시각화하기 위해서 각 시별로 그룹핑한 다음 평균을 적용\n",
    "data4 = data5.groupby(\"시\",as_index=False).apply(lambda x: x.mean())\n",
    "print(data4)"
   ]
  },
  {
   "cell_type": "code",
   "execution_count": 11,
   "id": "01c904a3",
   "metadata": {},
   "outputs": [],
   "source": [
    "# 그래프 출력 (함수화 필요할 가능성 있음)\n",
    "font_dirs = [r'C:\\Users\\Administrator\\AppData\\Local\\Microsoft\\Windows\\Fonts', ] # 폰트 경로\n",
    "font_files = fm.findSystemFonts(fontpaths=font_dirs) # 경로 추적\n",
    "for font_file in font_files:# 경로 내의 폰트 저장\n",
    "    fm.fontManager.addfont(font_file)"
   ]
  },
  {
   "cell_type": "code",
   "execution_count": 12,
   "id": "0eaa6dcb",
   "metadata": {},
   "outputs": [
    {
     "data": {
      "image/png": "[encoded data removed]",
      "text/plain": [
       "<Figure size 720x360 with 1 Axes>"
      ]
     },
     "metadata": {
      "needs_background": "light"
     },
     "output_type": "display_data"
    }
   ],
   "source": [
    "plt.figure(figsize=(10,5))\n",
    "sns.set(font=\"NanumGothic\", # 폰트 나눔고딕\n",
    "        rc={\"axes.unicode_minus\":False}, # 마이너스 부호 깨짐 방지\n",
    "        style='darkgrid') # 검은 그리드\n",
    "plt.bar(data4[\"시\"],data4[\"돈\"])\n",
    "plt.show()"
   ]
  },
  {
   "cell_type": "code",
   "execution_count": null,
   "id": "c527a8eb",
   "metadata": {},
   "outputs": [],
   "source": []
  }
 ],
 "metadata": {
  "kernelspec": {
   "display_name": "Python 3",
   "language": "python",
   "name": "python3"
  },
  "language_info": {
   "codemirror_mode": {
    "name": "ipython",
    "version": 3
   },
   "file_extension": ".py",
   "mimetype": "text/x-python",
   "name": "python",
   "nbconvert_exporter": "python",
   "pygments_lexer": "ipython3",
   "version": "3.8.8"
  }
 },
 "nbformat": 4,
 "nbformat_minor": 5
}
